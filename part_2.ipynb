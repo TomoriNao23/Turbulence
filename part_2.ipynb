{
 "cells": [
  {
   "cell_type": "code",
   "execution_count": 1,
   "metadata": {},
   "outputs": [],
   "source": [
    "clc;clear;close all;\n",
    "addpath('function','data');\n",
    "load('import_phy.mat')"
   ]
  },
  {
   "cell_type": "code",
   "execution_count": 2,
   "metadata": {},
   "outputs": [],
   "source": [
    "[u_avg, v_avg, w_avg] = calculateMeanVelocity(Up, Vp, Wp);\n",
    "[u_turb, v_turb, w_turb] = calculateTurbulentFluctuations(Up, Vp, Wp, u_avg, v_avg, w_avg);\n",
    "[rey_uu, rey_uv, rey_uw, rey_vv, rey_vw, rey_ww] = calculateReynoldsStress(u_turb, v_turb, w_turb);"
   ]
  },
  {
   "cell_type": "code",
   "execution_count": 3,
   "metadata": {},
   "outputs": [],
   "source": [
    "Um = 1;\n",
    "delta = 1;"
   ]
  },
  {
   "cell_type": "code",
   "execution_count": 4,
   "metadata": {},
   "outputs": [],
   "source": [
    "du_um = (u_avg(end) - u_avg(end-1)) / Um;\n",
    "dy_delta = (Y(end) - Y(end-1)) / delta;\n",
    "u_tao = Um * sqrt(abs(1 / Rem * du_um / dy_delta));\n",
    "delta_v = delta * 1 / (Rem * (u_tao / Um));\n",
    "Re_tao = delta / delta_v;"
   ]
  },
  {
   "cell_type": "code",
   "execution_count": 5,
   "metadata": {},
   "outputs": [
    {
     "name": "stdout",
     "output_type": "stream",
     "text": [
      "u_tao = 0.062339  delta_v = 0.005729  Re_tao = 174.547940"
     ]
    }
   ],
   "source": [
    "fprintf('u_tao = %f', u_tao);\n",
    "fprintf('  delta_v = %f', delta_v);\n",
    "fprintf('  Re_tao = %f', Re_tao);"
   ]
  },
  {
   "cell_type": "code",
   "execution_count": 6,
   "metadata": {},
   "outputs": [
    {
     "data": {
      "image/png": "[encoded data removed]",
      "text/plain": [
       "<IPython.core.display.Image object>"
      ]
     },
     "metadata": {},
     "output_type": "display_data"
    }
   ],
   "source": [
    "y_plus = Y / delta_v;\n",
    "y_plus_max = max(y_plus);\n",
    "y_plus = y_plus - y_plus(1);\n",
    "u_plus = u_avg / u_tao; \n",
    "\n",
    "x= y_plus(1:64);\n",
    "x = log10(x);\n",
    "\n",
    "figure(1)\n",
    "    set(gcf,'position',[250 300 1600 200])\n",
    "    \n",
    "    subplot(1,2,1)\n",
    "        %set(gca,'position', [0.125 0.45 0.32 0.45]);\n",
    "        plot(y_plus, u_plus,'LineWidth', 1.3,'color','r')\n",
    "        hold on\n",
    "        plot(y_plus,y_plus,'--','color','k')\n",
    "        hold on\n",
    "        xlim([0 20])\n",
    "\n",
    "    subplot(1,2,2)\n",
    "        %set(gca,'position', [0.56 0.45 0.32 0.45]);\n",
    "        plot(x, u_plus(1:64),'LineWidth', 1.3,'color','r')\n",
    "        hold on\n",
    "        % Linear fit\n",
    "        p = polyfit(x(12:30), u_plus(12:30), 1);\n",
    "        y_fit = polyval(p, x(12:30));\n",
    "        plot(x(12:30), y_fit, '--','color','k','LineWidth',2.5)\n",
    "        %set(gca,'XScale','log')\n",
    "        xticks([0 1 2])\n",
    "        xticklabels({'10^0','10^1','10^2', 'Interpreter', 'latex'})\n",
    "\n",
    "    sgtitle('Mean Velocity Profile','HorizontalAlignment', 'center');\n",
    "print(gcf, './photo/part2/Mean Velocity Profile_Wall.png', '-dpng', '-r300');"
   ]
  },
  {
   "cell_type": "code",
   "execution_count": 7,
   "metadata": {},
   "outputs": [],
   "source": [
    "rey_uu_new = rey_uu / (u_tao * u_tao);\n",
    "rey_uv_new = rey_uv / (u_tao * u_tao);\n",
    "rey_uw_new = rey_uw / (u_tao * u_tao);\n",
    "rey_vv_new = rey_vv / (u_tao * u_tao);\n",
    "rey_vw_new = rey_vw / (u_tao * u_tao);\n",
    "rey_ww_new = rey_ww / (u_tao * u_tao);"
   ]
  },
  {
   "cell_type": "code",
   "execution_count": 8,
   "metadata": {},
   "outputs": [
    {
     "data": {
      "image/png": "[encoded data removed]",
      "text/plain": [
       "<IPython.core.display.Image object>"
      ]
     },
     "metadata": {},
     "output_type": "display_data"
    }
   ],
   "source": [
    "figure(2);\n",
    "    plot(y_plus, rey_uu_new, 'g', y_plus, rey_uv_new, 'y', y_plus, rey_uw_new, 'm', y_plus, rey_vv_new, 'b', y_plus, rey_vw_new, 'r', y_plus, rey_ww_new, 'c', 'LineWidth', 1.4);\n",
    "    legend('$\\langle{u''u''}\\rangle$', '$\\langle{u''v''}\\rangle$', '$\\langle{u''w''}\\rangle$', '$\\langle{v''v''}\\rangle$', '$\\langle{v''w''}\\rangle$', '$\\langle{w''w''}\\rangle$', 'Interpreter', 'latex')\n",
    "    xlabel('$y^+$', 'Interpreter', 'latex')\n",
    "    ylabel('$\\langle{u_i''u_j''}\\rangle /u^2_\\tau$', 'Interpreter', 'latex')\n",
    "    xlim([0 y_plus_max])\n",
    "    sgtitle('Reynolds Stress','HorizontalAlignment', 'center');\n",
    "print(gcf, './photo/part2/Reynolds Stress_Wall.png', '-dpng', '-r300');"
   ]
  },
  {
   "cell_type": "code",
   "execution_count": 9,
   "metadata": {},
   "outputs": [],
   "source": [
    "y0 = 114;\n",
    "\n",
    "u_origin = u_turb(:,y0,:);\n",
    "u_origin = reshape(u_origin,[NX,NZ]);\n",
    "u_turb_tensors_streamwise = zeros(NX, NZ);\n",
    "v_origin = v_turb(:,y0,:);\n",
    "v_origin = reshape(v_origin,[NX,NZ]);\n",
    "v_turb_tensors_streamwise = zeros(NX, NZ);\n",
    "w_origin = w_turb(:,y0,:);\n",
    "w_origin = reshape(w_origin,[NX,NZ]);\n",
    "w_turb_tensors_streamwise = zeros(NX, NZ);\n",
    "R = zeros(NX,1);\n",
    "r = zeros(NX,1);"
   ]
  },
  {
   "cell_type": "code",
   "execution_count": 10,
   "metadata": {},
   "outputs": [],
   "source": [
    "for phase = 0:(NX -1)\n",
    "    u_turb_tensors_streamwise(1:NX-phase,:) = u_origin(phase+1:NX,:);\n",
    "    u_turb_tensors_streamwise(NX-phase+1:NX,:) = u_origin(1:phase,:);\n",
    "    v_turb_tensors_streamwise(1:NX-phase,:) = v_origin(phase+1:NX,:);\n",
    "    v_turb_tensors_streamwise(NX-phase+1:NX,:) = v_origin(1:phase,:);\n",
    "    w_turb_tensors_streamwise(1:NX-phase,:) = w_origin(phase+1:NX,:);\n",
    "    w_turb_tensors_streamwise(NX-phase+1:NX,:) = w_origin(1:phase,:);\n",
    "    \n",
    "    Ruu_streamwise(phase+1) = mean(mean(u_origin .* u_turb_tensors_streamwise));\n",
    "    ruu_streamwise(phase+1) = Ruu_streamwise(phase+1) / rey_uu(y0);\n",
    "    Rvv_streamwise(phase+1) = mean(mean(v_origin .* v_turb_tensors_streamwise));\n",
    "    rvv_streamwise(phase+1) = Rvv_streamwise(phase+1) / rey_vv(y0);\n",
    "    Rww_streamwise(phase+1) = mean(mean(w_origin .* w_turb_tensors_streamwise));\n",
    "    rww_streamwise(phase+1) = Rww_streamwise(phase+1) / rey_ww(y0);\n",
    "end"
   ]
  },
  {
   "cell_type": "code",
   "execution_count": 11,
   "metadata": {},
   "outputs": [],
   "source": [
    "for phase = 0:(NZ -1)\n",
    "    u_turb_tensors_spanwise(:,1:NZ-phase) = u_origin(:,phase+1:NZ);\n",
    "    u_turb_tensors_spanwise(:,NZ-phase+1:NZ) = u_origin(:,1:phase);\n",
    "    v_turb_tensors_spanwise(:,1:NZ-phase) = v_origin(:,phase+1:NZ);\n",
    "    v_turb_tensors_spanwise(:,NZ-phase+1:NZ) = v_origin(:,1:phase);\n",
    "    w_turb_tensors_spanwise(:,1:NZ-phase) = w_origin(:,phase+1:NZ);\n",
    "    w_turb_tensors_spanwise(:,NZ-phase+1:NZ) = w_origin(:,1:phase);\n",
    "\n",
    "    \n",
    "    Ruu(phase+1) = mean(mean(u_origin .* u_turb_tensors_spanwise));\n",
    "    ruu(phase+1) = Ruu(phase+1) / rey_uu(y0);\n",
    "    Rvv(phase+1) = mean(mean(v_origin .* v_turb_tensors_spanwise));\n",
    "    rvv(phase+1) = Rvv(phase+1) / rey_vv(y0);\n",
    "    Rww(phase+1) = mean(mean(w_origin .* w_turb_tensors_spanwise));\n",
    "    rww(phase+1) = Rww(phase+1) / rey_ww(y0);\n",
    "end"
   ]
  },
  {
   "cell_type": "code",
   "execution_count": 12,
   "metadata": {},
   "outputs": [
    {
     "data": {
      "image/png": "[encoded data removed]",
      "text/plain": [
       "<IPython.core.display.Image object>"
      ]
     },
     "metadata": {},
     "output_type": "display_data"
    }
   ],
   "source": [
    "figure(3)\n",
    "    set(gcf,'position',[250 300 1600 700])\n",
    "\n",
    "    subplot(1,2,1)\n",
    "        set(gca,'position', [0.1 0.6 0.35 0.3]);\n",
    "        x_delta = X / delta;\n",
    "        plot(x_delta, ruu_streamwise, 'g', x_delta, rvv_streamwise, 'b', x_delta, rww_streamwise, 'r', 'LineWidth', 1.5);\n",
    "        xlim([0 max(x_delta)/2])\n",
    "        legend('$R_{u,u}$', '$R_{v,v}$', '$R_{w,w}$', 'Interpreter', 'latex')\n",
    "        xlabel('$x/\\delta$', 'Interpreter', 'latex')\n",
    "        ylabel('$R_{ij} $', 'Interpreter', 'latex')\n",
    "        title('Streamwise','HorizontalAlignment', 'center');\n",
    "\n",
    "    subplot(1,2,2)\n",
    "        set(gca,'position', [0.6 0.6 0.35 0.3]);\n",
    "        z_delta = Z / delta;\n",
    "        plot(z_delta, ruu, 'g', z_delta, rvv, 'b', z_delta, rww, 'r', 'LineWidth', 1.5);\n",
    "        xlim([0 max(z_delta)/2])\n",
    "        legend('$R_{u,u}$', '$R_{v,v}$', '$R_{w,w}$', 'Interpreter', 'latex')\n",
    "        xlabel('$z/\\delta$', 'Interpreter', 'latex')\n",
    "        ylabel('$R_{ij} $', 'Interpreter', 'latex')\n",
    "        title('Spanwise','HorizontalAlignment', 'center');\n",
    "\n",
    "print(gcf, './photo/part2/Point Autocorrelation Coefficient.png', '-dpng', '-r300');"
   ]
  }
 ],
 "metadata": {
  "kernelspec": {
   "display_name": "Matlab",
   "language": "matlab",
   "name": "matlab"
  },
  "language_info": {
   "codemirror_mode": "octave",
   "file_extension": ".m",
   "help_links": [
    {
     "text": "MetaKernel Magics",
     "url": "https://metakernel.readthedocs.io/en/latest/source/README.html"
    }
   ],
   "mimetype": "text/x-octave",
   "name": "matlab",
   "version": "0.17.1"
  }
 },
 "nbformat": 4,
 "nbformat_minor": 2
}
